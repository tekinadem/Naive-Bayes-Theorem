{
 "cells": [
  {
   "cell_type": "code",
   "execution_count": 1,
   "metadata": {},
   "outputs": [],
   "source": [
    "import numpy as np\n",
    "import pandas as pd\n",
    "import matplotlib.pyplot as plt"
   ]
  },
  {
   "cell_type": "code",
   "execution_count": 2,
   "metadata": {},
   "outputs": [],
   "source": [
    "def gauss(x, mu, sigma):\n",
    "    return (1/sigma*(2*np.pi)**0.5)*np.exp(-((x-mu)**2)/2*sigma**2)"
   ]
  },
  {
   "cell_type": "code",
   "execution_count": 13,
   "metadata": {},
   "outputs": [
    {
     "data": {
      "text/plain": [
       "1.2533141373155001"
      ]
     },
     "execution_count": 13,
     "metadata": {},
     "output_type": "execute_result"
    }
   ],
   "source": [
    "gauss(0,0,2)"
   ]
  },
  {
   "cell_type": "code",
   "execution_count": 16,
   "metadata": {},
   "outputs": [],
   "source": [
    "def salmon(type1, type2, new):\n",
    "    \"\"\"\n",
    "    type1  : array of type 1 class values, e.g. [1,2,3,4,5,6]\n",
    "    type2  : array of type 2 class values, e.g. [6,7,8,9,10,11]\n",
    "    \n",
    "    \"\"\"\n",
    "    mu1 = np.mean(type1)\n",
    "    std1 = np.std(type1)\n",
    "    \n",
    "    mu2 = np.mean(type1)\n",
    "    std2 = np.std(type1)\n",
    "    \n",
    "    prior1 = len(type1)/(len(type1)+len(type2))\n",
    "    prior2 = len(type2)/(len(type1)+len(type2))     \n",
    "    \n",
    "    p1 = gauss(new, mu1, std1)*prior1\n",
    "    p2 = gauss(new, mu2, std2)*prior2    \n",
    "    \n",
    "    return p1/(p1+p2), p2/(p1+p2)"
   ]
  },
  {
   "cell_type": "code",
   "execution_count": 17,
   "metadata": {},
   "outputs": [],
   "source": [
    "l1= [6,7,5,4,6,7]\n",
    "l2= [8,6,3,7,9,6,5]"
   ]
  },
  {
   "cell_type": "code",
   "execution_count": 19,
   "metadata": {},
   "outputs": [
    {
     "data": {
      "text/plain": [
       "(0.4615384615384615, 0.5384615384615384)"
      ]
     },
     "execution_count": 19,
     "metadata": {},
     "output_type": "execute_result"
    }
   ],
   "source": [
    "salmon(l1,l2,2)"
   ]
  },
  {
   "cell_type": "code",
   "execution_count": null,
   "metadata": {},
   "outputs": [],
   "source": []
  }
 ],
 "metadata": {
  "kernelspec": {
   "display_name": "Python 3",
   "language": "python",
   "name": "python3"
  },
  "language_info": {
   "codemirror_mode": {
    "name": "ipython",
    "version": 3
   },
   "file_extension": ".py",
   "mimetype": "text/x-python",
   "name": "python",
   "nbconvert_exporter": "python",
   "pygments_lexer": "ipython3",
   "version": "3.7.4"
  }
 },
 "nbformat": 4,
 "nbformat_minor": 4
}
